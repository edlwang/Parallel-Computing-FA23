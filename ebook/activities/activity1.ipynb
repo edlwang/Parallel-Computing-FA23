{
 "cells": [
  {
   "cell_type": "markdown",
   "id": "1a67f85d-6cac-47aa-ab01-3bb1654d7099",
   "metadata": {},
   "source": [
    "###  Activity 1: All Possible Regressions\n",
    "\n",
    "This is a quick assignment.  I would expect it to only take a couple of hours to complete. The start of this notebook develops the example.  You will then parallelize the exammple using `joblib`. \n",
    "\n",
    "Run this on a machine that has at least 4 cores. Typically this is your laptop. The ugrad machines are also OK. Google Colab is not adequate. Fill out the requested cells toward the bottom of the notebook.\n",
    "\n",
    "**Due date**: Tuesday September 12, 2022, 9:00 pm EDT.\n",
    "\n",
    "**Instructions for Submission**: Submit via Gradescope.\n",
    "\n",
    "#### Preparing the Environment\n",
    "\n",
    "You will need a couple of packages installed to make this work.  Stop your instance of jupyter lab and then run\n",
    "\n",
    "```\n",
    "conda install pandas pandoc\n",
    "jupyter lab\n",
    "```\n",
    "At this point, you should be ready to go.\n",
    "\n",
    "#### Example code\n",
    "\n",
    "This is a Python reimplementation of the Section 3.4. in _Matloff_, Parallel Computing for Data Science. It is based on data from https://www.kaggle.com/divan0/multiple-linear-regression. The notebook asks the question what combination of variables best predict the price of a house."
   ]
  },
  {
   "cell_type": "code",
   "execution_count": 1,
   "id": "a9525a93-0b4e-4a25-bf87-d4335132cffc",
   "metadata": {
    "tags": []
   },
   "outputs": [
    {
     "data": {
      "text/html": [
       "<div>\n",
       "<style scoped>\n",
       "    .dataframe tbody tr th:only-of-type {\n",
       "        vertical-align: middle;\n",
       "    }\n",
       "\n",
       "    .dataframe tbody tr th {\n",
       "        vertical-align: top;\n",
       "    }\n",
       "\n",
       "    .dataframe thead th {\n",
       "        text-align: right;\n",
       "    }\n",
       "</style>\n",
       "<table border=\"1\" class=\"dataframe\">\n",
       "  <thead>\n",
       "    <tr style=\"text-align: right;\">\n",
       "      <th></th>\n",
       "      <th>id</th>\n",
       "      <th>date</th>\n",
       "      <th>price</th>\n",
       "      <th>bedrooms</th>\n",
       "      <th>bathrooms</th>\n",
       "      <th>sqft_living</th>\n",
       "      <th>sqft_lot</th>\n",
       "      <th>floors</th>\n",
       "      <th>waterfront</th>\n",
       "      <th>view</th>\n",
       "      <th>...</th>\n",
       "      <th>grade</th>\n",
       "      <th>sqft_above</th>\n",
       "      <th>sqft_basement</th>\n",
       "      <th>yr_built</th>\n",
       "      <th>yr_renovated</th>\n",
       "      <th>zipcode</th>\n",
       "      <th>lat</th>\n",
       "      <th>long</th>\n",
       "      <th>sqft_living15</th>\n",
       "      <th>sqft_lot15</th>\n",
       "    </tr>\n",
       "  </thead>\n",
       "  <tbody>\n",
       "    <tr>\n",
       "      <th>0</th>\n",
       "      <td>7129300520</td>\n",
       "      <td>20141013T000000</td>\n",
       "      <td>221900.0</td>\n",
       "      <td>3</td>\n",
       "      <td>1.00</td>\n",
       "      <td>1180</td>\n",
       "      <td>5650</td>\n",
       "      <td>1.0</td>\n",
       "      <td>0</td>\n",
       "      <td>0</td>\n",
       "      <td>...</td>\n",
       "      <td>7</td>\n",
       "      <td>1180.0</td>\n",
       "      <td>0</td>\n",
       "      <td>1955</td>\n",
       "      <td>0</td>\n",
       "      <td>98178</td>\n",
       "      <td>47.5112</td>\n",
       "      <td>-122.257</td>\n",
       "      <td>1340</td>\n",
       "      <td>5650</td>\n",
       "    </tr>\n",
       "    <tr>\n",
       "      <th>1</th>\n",
       "      <td>6414100192</td>\n",
       "      <td>20141209T000000</td>\n",
       "      <td>538000.0</td>\n",
       "      <td>3</td>\n",
       "      <td>2.25</td>\n",
       "      <td>2570</td>\n",
       "      <td>7242</td>\n",
       "      <td>2.0</td>\n",
       "      <td>0</td>\n",
       "      <td>0</td>\n",
       "      <td>...</td>\n",
       "      <td>7</td>\n",
       "      <td>2170.0</td>\n",
       "      <td>400</td>\n",
       "      <td>1951</td>\n",
       "      <td>1991</td>\n",
       "      <td>98125</td>\n",
       "      <td>47.7210</td>\n",
       "      <td>-122.319</td>\n",
       "      <td>1690</td>\n",
       "      <td>7639</td>\n",
       "    </tr>\n",
       "    <tr>\n",
       "      <th>2</th>\n",
       "      <td>5631500400</td>\n",
       "      <td>20150225T000000</td>\n",
       "      <td>180000.0</td>\n",
       "      <td>2</td>\n",
       "      <td>1.00</td>\n",
       "      <td>770</td>\n",
       "      <td>10000</td>\n",
       "      <td>1.0</td>\n",
       "      <td>0</td>\n",
       "      <td>0</td>\n",
       "      <td>...</td>\n",
       "      <td>6</td>\n",
       "      <td>770.0</td>\n",
       "      <td>0</td>\n",
       "      <td>1933</td>\n",
       "      <td>0</td>\n",
       "      <td>98028</td>\n",
       "      <td>47.7379</td>\n",
       "      <td>-122.233</td>\n",
       "      <td>2720</td>\n",
       "      <td>8062</td>\n",
       "    </tr>\n",
       "    <tr>\n",
       "      <th>3</th>\n",
       "      <td>2487200875</td>\n",
       "      <td>20141209T000000</td>\n",
       "      <td>604000.0</td>\n",
       "      <td>4</td>\n",
       "      <td>3.00</td>\n",
       "      <td>1960</td>\n",
       "      <td>5000</td>\n",
       "      <td>1.0</td>\n",
       "      <td>0</td>\n",
       "      <td>0</td>\n",
       "      <td>...</td>\n",
       "      <td>7</td>\n",
       "      <td>1050.0</td>\n",
       "      <td>910</td>\n",
       "      <td>1965</td>\n",
       "      <td>0</td>\n",
       "      <td>98136</td>\n",
       "      <td>47.5208</td>\n",
       "      <td>-122.393</td>\n",
       "      <td>1360</td>\n",
       "      <td>5000</td>\n",
       "    </tr>\n",
       "    <tr>\n",
       "      <th>4</th>\n",
       "      <td>1954400510</td>\n",
       "      <td>20150218T000000</td>\n",
       "      <td>510000.0</td>\n",
       "      <td>3</td>\n",
       "      <td>2.00</td>\n",
       "      <td>1680</td>\n",
       "      <td>8080</td>\n",
       "      <td>1.0</td>\n",
       "      <td>0</td>\n",
       "      <td>0</td>\n",
       "      <td>...</td>\n",
       "      <td>8</td>\n",
       "      <td>1680.0</td>\n",
       "      <td>0</td>\n",
       "      <td>1987</td>\n",
       "      <td>0</td>\n",
       "      <td>98074</td>\n",
       "      <td>47.6168</td>\n",
       "      <td>-122.045</td>\n",
       "      <td>1800</td>\n",
       "      <td>7503</td>\n",
       "    </tr>\n",
       "  </tbody>\n",
       "</table>\n",
       "<p>5 rows × 21 columns</p>\n",
       "</div>"
      ],
      "text/plain": [
       "           id             date     price  bedrooms  bathrooms  sqft_living  \\\n",
       "0  7129300520  20141013T000000  221900.0         3       1.00         1180   \n",
       "1  6414100192  20141209T000000  538000.0         3       2.25         2570   \n",
       "2  5631500400  20150225T000000  180000.0         2       1.00          770   \n",
       "3  2487200875  20141209T000000  604000.0         4       3.00         1960   \n",
       "4  1954400510  20150218T000000  510000.0         3       2.00         1680   \n",
       "\n",
       "   sqft_lot  floors  waterfront  view  ...  grade  sqft_above  sqft_basement  \\\n",
       "0      5650     1.0           0     0  ...      7      1180.0              0   \n",
       "1      7242     2.0           0     0  ...      7      2170.0            400   \n",
       "2     10000     1.0           0     0  ...      6       770.0              0   \n",
       "3      5000     1.0           0     0  ...      7      1050.0            910   \n",
       "4      8080     1.0           0     0  ...      8      1680.0              0   \n",
       "\n",
       "   yr_built  yr_renovated  zipcode      lat     long  sqft_living15  \\\n",
       "0      1955             0    98178  47.5112 -122.257           1340   \n",
       "1      1951          1991    98125  47.7210 -122.319           1690   \n",
       "2      1933             0    98028  47.7379 -122.233           2720   \n",
       "3      1965             0    98136  47.5208 -122.393           1360   \n",
       "4      1987             0    98074  47.6168 -122.045           1800   \n",
       "\n",
       "   sqft_lot15  \n",
       "0        5650  \n",
       "1        7639  \n",
       "2        8062  \n",
       "3        5000  \n",
       "4        7503  \n",
       "\n",
       "[5 rows x 21 columns]"
      ]
     },
     "execution_count": 1,
     "metadata": {},
     "output_type": "execute_result"
    }
   ],
   "source": [
    "import numpy as np\n",
    "import matplotlib.pyplot as plt\n",
    "import pandas as pd\n",
    "\n",
    "%matplotlib inline\n",
    "\n",
    "#importing dataset using panda\n",
    "dataset = pd.read_csv('../data/kc_house_data.csv')\n",
    "#to see what my dataset is comprised of\n",
    "dataset.head()"
   ]
  },
  {
   "cell_type": "code",
   "execution_count": 2,
   "id": "06ad55ee-ba79-4673-b693-ebca04f1bb77",
   "metadata": {
    "tags": []
   },
   "outputs": [
    {
     "name": "stderr",
     "output_type": "stream",
     "text": [
      "/tmp/ipykernel_46/3445377822.py:5: FutureWarning: In a future version of pandas all arguments of DataFrame.any and Series.any will be keyword-only.\n",
      "  dataset = dataset[~dataset.isin([np.nan, np.inf, -np.inf]).any(1)]\n"
     ]
    }
   ],
   "source": [
    "#dropping the id and date column\n",
    "dataset = dataset.drop(['id','date'], axis = 1)\n",
    "\n",
    "# clean out NaN and inf values\n",
    "dataset = dataset[~dataset.isin([np.nan, np.inf, -np.inf]).any(1)]"
   ]
  },
  {
   "cell_type": "markdown",
   "id": "f724288c-e17e-46a4-939b-c5ec0fc34a3b",
   "metadata": {},
   "source": [
    "Let's first do a simple regression. How does square footage predict price? "
   ]
  },
  {
   "cell_type": "code",
   "execution_count": 3,
   "id": "cbd8b494-d600-4bc9-9af7-15bef7796fb5",
   "metadata": {
    "tags": []
   },
   "outputs": [
    {
     "name": "stdout",
     "output_type": "stream",
     "text": [
      "coefficient of determination: 0.4928817196006994\n"
     ]
    }
   ],
   "source": [
    "from sklearn.linear_model import LinearRegression\n",
    "\n",
    "X = np.array(dataset.sqft_living)\n",
    "Y = np.array(dataset.price)\n",
    "\n",
    "# shape X into matrix of a single column\n",
    "X = X.reshape((X.shape[0],1))\n",
    "\n",
    "model = LinearRegression()\n",
    "model.fit(X,Y)\n",
    "r_sq = model.score(X,Y)\n",
    "print('coefficient of determination:', r_sq)"
   ]
  },
  {
   "cell_type": "code",
   "execution_count": 4,
   "id": "97519567-fe0a-439e-a7e7-d97e4d56dea7",
   "metadata": {
    "tags": []
   },
   "outputs": [
    {
     "data": {
      "image/png": "[encoded data removed]",
      "text/plain": [
       "<Figure size 640x480 with 1 Axes>"
      ]
     },
     "metadata": {},
     "output_type": "display_data"
    }
   ],
   "source": [
    "%matplotlib inline\n",
    "import matplotlib.pyplot as plt\n",
    "\n",
    "# scatter data\n",
    "plt.plot(X,Y,'o')\n",
    "# best fit line\n",
    "y_pred = model.intercept_ + model.coef_ * X\n",
    "plt.plot(X, y_pred, color='red', linewidth=3)\n",
    "\n",
    "plt.xticks(())\n",
    "plt.yticks(())\n",
    "\n",
    "plt.show()"
   ]
  },
  {
   "cell_type": "markdown",
   "id": "c639cbb5-6bdd-4032-812a-5bf8e0174833",
   "metadata": {},
   "source": [
    "We see that there is a strong correlation between square footage and house price.  The coefficient of determination measures the strength of the correlation and varies between 0 (no correlation) and 1.0 (perfectly correlated)."
   ]
  },
  {
   "cell_type": "markdown",
   "id": "0e2d9af2-3882-4c1d-9f58-038567ffd5ac",
   "metadata": {},
   "source": [
    "### Multiple Linear Regression\n",
    "\n",
    "Adding more variables often improves the score."
   ]
  },
  {
   "cell_type": "code",
   "execution_count": 5,
   "id": "fccb721f-db9f-4c58-ad3b-d7ed629791a2",
   "metadata": {
    "tags": []
   },
   "outputs": [
    {
     "name": "stdout",
     "output_type": "stream",
     "text": [
      "coefficient of determination: 0.5249639858277426\n"
     ]
    }
   ],
   "source": [
    "X = np.array(dataset[['sqft_living','condition','yr_built']])\n",
    "Y = np.array(dataset.price)\n",
    "\n",
    "# shape X into matrix of a single column\n",
    "X = X.reshape((X.shape[0],3))\n",
    "\n",
    "model = LinearRegression()\n",
    "model.fit(X,Y)\n",
    "r_sq = model.score(X,Y)\n",
    "print('coefficient of determination:', r_sq)"
   ]
  },
  {
   "cell_type": "markdown",
   "id": "e900ab88-873c-4290-9d99-723cef811c6d",
   "metadata": {},
   "source": [
    "but some variables are confounding"
   ]
  },
  {
   "cell_type": "code",
   "execution_count": 6,
   "id": "ff60bd53-6ebc-4f13-8c78-5e81992aebd4",
   "metadata": {
    "tags": []
   },
   "outputs": [
    {
     "name": "stdout",
     "output_type": "stream",
     "text": [
      "coefficient of determination: 0.13588749977708692\n"
     ]
    }
   ],
   "source": [
    "X = np.array(dataset[['zipcode','floors','waterfront']])\n",
    "Y = np.array(dataset.price)\n",
    "\n",
    "# shape X into matrix of a single column\n",
    "X = X.reshape((X.shape[0],3))\n",
    "\n",
    "model = LinearRegression()\n",
    "model.fit(X,Y)\n",
    "r_sq = model.score(X,Y)\n",
    "print('coefficient of determination:', r_sq)"
   ]
  },
  {
   "cell_type": "markdown",
   "id": "1d948a45-a861-423a-b2ce-8fcf1bf976c3",
   "metadata": {},
   "source": [
    "This leads to a first parallel program.  What are the right set of variables? A brute force approach called _All Possible Regressions_ examines all combinations. So, let's build a big matrix that and we will regress on subsets.  We will look at all combinations of 1, 2, or 3 variables."
   ]
  },
  {
   "cell_type": "code",
   "execution_count": 7,
   "id": "615005bd-f622-43a0-a844-c32f11e2676d",
   "metadata": {
    "tags": []
   },
   "outputs": [],
   "source": [
    "from itertools import combinations, chain\n",
    "\n",
    "Y = np.array(dataset.price)\n",
    "X = np.array(dataset.drop(['price'], axis=1))\n",
    "\n",
    "## Let's choose all combinations of 1, 2, and 3 columns.\n",
    "col_idxs = np.array(range(X.shape[1]))\n",
    "combos = list(chain(combinations(col_idxs, 1), combinations(col_idxs, 2), combinations(col_idxs, 3)))"
   ]
  },
  {
   "cell_type": "code",
   "execution_count": 8,
   "id": "bc919ff9-24aa-4a9b-a4ee-efc84f8b51d9",
   "metadata": {
    "tags": []
   },
   "outputs": [
    {
     "name": "stdout",
     "output_type": "stream",
     "text": [
      "0.6095149101819035 (2, 6, 14)\n"
     ]
    }
   ],
   "source": [
    "model = LinearRegression()\n",
    "\n",
    "# do in a for loop (dumbest way)\n",
    "r_sq_best = 0.0\n",
    "for combo in combos:\n",
    "    Xp = X[:,combo]\n",
    "    model = model.fit(Xp,Y)\n",
    "    r_sq = model.score(Xp,Y)\n",
    "    if r_sq > r_sq_best:\n",
    "        r_sq_best = r_sq\n",
    "        combo_best = combo\n",
    "    \n",
    "print(r_sq_best, combo_best)"
   ]
  },
  {
   "cell_type": "markdown",
   "id": "603e45b6-80e4-4c6c-9a2f-1e8a728b1e5b",
   "metadata": {},
   "source": [
    "The outcome is kind of crazy. The fields are `sqft-living`, `view`, and `latitude`. Latitude is probably a somewhat accurate proxy for wealth in this area, e.g. N of town richer than south of town. But, this is the kind of outcome that would not translate to other regions, i.e. is likely specific to this data.  _Neat_.\n",
    "\n",
    "Back to performance."
   ]
  },
  {
   "cell_type": "code",
   "execution_count": 9,
   "id": "0e8377d0-63a9-439c-be04-92d19f25e71c",
   "metadata": {
    "tags": []
   },
   "outputs": [
    {
     "name": "stdout",
     "output_type": "stream",
     "text": [
      "1.64 s ± 23.8 ms per loop (mean ± std. dev. of 7 runs, 1 loop each)\n"
     ]
    }
   ],
   "source": [
    "%%timeit\n",
    "model = LinearRegression()\n",
    "\n",
    "r_sq_best = 0.0\n",
    "for combo in combos:\n",
    "    Xp = X[:,combo]\n",
    "    model = model.fit(Xp,Y)\n",
    "    r_sq = model.score(Xp,Y)\n",
    "    if r_sq > r_sq_best:\n",
    "        r_sq_best = r_sq\n",
    "        combo_best = combo"
   ]
  },
  {
   "cell_type": "markdown",
   "id": "9f8f2fb1-6df7-4902-9e5a-ed4ccfc231a1",
   "metadata": {},
   "source": [
    "Let's see if flattening the loop matters. Replace for loop with a list comprehension of all combination of variables."
   ]
  },
  {
   "cell_type": "code",
   "execution_count": 10,
   "id": "7993f4bd-6331-42f5-b909-31c6f1b659cf",
   "metadata": {
    "tags": []
   },
   "outputs": [],
   "source": [
    "def r_sq_regression (combo):\n",
    "    Xp = X[:,combo]\n",
    "    model = LinearRegression()\n",
    "    model = model.fit(Xp,Y)\n",
    "    return model.score(Xp,Y)"
   ]
  },
  {
   "cell_type": "code",
   "execution_count": 11,
   "id": "96184a66-012a-4068-a462-677fcafb2ba7",
   "metadata": {
    "tags": []
   },
   "outputs": [
    {
     "name": "stdout",
     "output_type": "stream",
     "text": [
      "[(2, 6, 14) 0.6095149101819035]\n"
     ]
    }
   ],
   "source": [
    "r_sq_list = [ (combo, r_sq_regression(combo)) for combo in combos ]\n",
    "r_sq_arr = np.array(r_sq_list, dtype=object)\n",
    "r_sq_idx = np.argmax(r_sq_arr[:,1])\n",
    "print(r_sq_arr[r_sq_idx])"
   ]
  },
  {
   "cell_type": "code",
   "execution_count": 12,
   "id": "efbf14c0-c47c-4b51-aed3-cde5f1b9af7e",
   "metadata": {
    "tags": []
   },
   "outputs": [
    {
     "name": "stdout",
     "output_type": "stream",
     "text": [
      "1.62 s ± 21.4 ms per loop (mean ± std. dev. of 7 runs, 1 loop each)\n"
     ]
    }
   ],
   "source": [
    "%%timeit\n",
    "r_sq_list = [ (combo, r_sq_regression(combo)) for combo in combos ]\n",
    "r_sq_arr = np.array(r_sq_list, dtype=object)\n",
    "r_sq_idx = np.argmax(r_sq_arr[:,1])"
   ]
  },
  {
   "cell_type": "markdown",
   "id": "e3298cb7-ab53-4a34-8442-883faa04a8ab",
   "metadata": {},
   "source": [
    "It didn't seem to help. But, this is a step toward parallelization.\n",
    "\n",
    "### Exercise (This is the assignment)\n",
    "\n",
    "1. Use `joblib.Parallel` and `joblib.delayed` to parallelize the computation of the calls to `r_sq_regression`. \n",
    "    1. In one cell, print the answer to verify that your parallel program is correct.\n",
    "    2. In another cell time the computation. What is the speedup at `n_jobs=4`?\n",
    "    3. Estimate the optimized fraction of the code ($p$) for this computation. Show your work."
   ]
  },
  {
   "cell_type": "code",
   "execution_count": 13,
   "id": "d1194559-1102-4978-bc80-a4911dddf37f",
   "metadata": {
    "tags": []
   },
   "outputs": [
    {
     "name": "stdout",
     "output_type": "stream",
     "text": [
      "[(2, 6, 14) 0.6095149101819038]\n"
     ]
    }
   ],
   "source": [
    "# TODO code for 1A\n",
    "from joblib import Parallel, delayed\n",
    "def r_sq_regression_parallel (combo):\n",
    "    Xp = X[:,combo]\n",
    "    model = LinearRegression()\n",
    "    model = model.fit(Xp,Y)\n",
    "    return (combo,model.score(Xp,Y))\n",
    "\n",
    "r_sq_list = Parallel(n_jobs=4)(delayed(r_sq_regression_parallel)(combo) for combo in combos)\n",
    "r_sq_arr = np.array(r_sq_list, dtype=object)\n",
    "r_sq_idx = np.argmax(r_sq_arr[:,1])\n",
    "print(r_sq_arr[r_sq_idx])"
   ]
  },
  {
   "cell_type": "code",
   "execution_count": 14,
   "id": "3643a3bb-383c-4da9-aa94-e2f35e9b67ad",
   "metadata": {},
   "outputs": [
    {
     "name": "stdout",
     "output_type": "stream",
     "text": [
      "1.26 s ± 47.8 ms per loop (mean ± std. dev. of 7 runs, 1 loop each)\n"
     ]
    }
   ],
   "source": [
    "%%timeit \n",
    "# TODO code for 1B \n",
    "r_sq_list = Parallel(n_jobs=4)(delayed(r_sq_regression_parallel)(combo) for combo in combos)\n",
    "r_sq_arr = np.array(r_sq_list, dtype=object)\n",
    "r_sq_idx = np.argmax(r_sq_arr[:,1])"
   ]
  },
  {
   "cell_type": "markdown",
   "id": "ed98d844-2cb4-4760-928d-bc2511399d9d",
   "metadata": {},
   "source": [
    "**TODO Answer for 1B and 1C**\n",
    "\n",
    "1B. The speedup is $\\frac{1.62}{1.26} = 1.29$\n",
    "\n",
    "1C. From Amdahl's Law, we can calculate Amdahl's number as $\\frac{c}{c-1}\\cdot \\left(1-\\frac{1}{s}\\right)$ where $c$ is the number of cores and $s$ is the speedup. This is also listed in https://github.com/randalburns/pcds.2023/blob/main/ebook/concepts/01_strong_scaling.ipynb on the section Inferring parallelism from Amdahl's Law. Plugging in our numbers of $c=4$ and $s=1.29$, we get $\\frac{4}{3}\\cdot \\left(1-\\frac{1}{1.29}\\right) = 0.30$"
   ]
  },
  {
   "cell_type": "markdown",
   "id": "ec4d94a2-fb3d-4d04-a315-6c913e677fad",
   "metadata": {},
   "source": [
    "2. Use the batch size parameter to vary the number of tasks in each batch from 1,2,...128 @ n_jobs=4. You will need to look at the joblib documentation to read up about batch size.\n",
    "   1. Plot your results (use %timeit -o to capture output)\n",
    "   2. Model the problem as having two performance components: a fixed startup cost per batch ($C_B$) and perfect parallelism.  Estimate the batch startup cost."
   ]
  },
  {
   "cell_type": "code",
   "execution_count": 15,
   "id": "0ebbd6e8-16ae-4a89-bed8-05f10bda3f17",
   "metadata": {},
   "outputs": [],
   "source": [
    "# code for 2A\n",
    "def run_with_batch_size(batch_size):\n",
    "    r_sq_list = Parallel(n_jobs=4, batch_size=batch_size)(delayed(r_sq_regression_parallel)(combo) for combo in combos)\n",
    "    r_sq_arr = np.array(r_sq_list, dtype=object)\n",
    "    r_sq_idx = np.argmax(r_sq_arr[:,1])\n"
   ]
  },
  {
   "cell_type": "code",
   "execution_count": 16,
   "id": "9df3f719-7a2d-4be0-b2fe-5a037780aef8",
   "metadata": {
    "tags": []
   },
   "outputs": [
    {
     "name": "stdout",
     "output_type": "stream",
     "text": [
      "3.27 s ± 306 ms per loop (mean ± std. dev. of 7 runs, 1 loop each)\n",
      "2.2 s ± 140 ms per loop (mean ± std. dev. of 7 runs, 1 loop each)\n",
      "1.85 s ± 60.8 ms per loop (mean ± std. dev. of 7 runs, 1 loop each)\n",
      "1.53 s ± 115 ms per loop (mean ± std. dev. of 7 runs, 1 loop each)\n",
      "1.32 s ± 59.2 ms per loop (mean ± std. dev. of 7 runs, 1 loop each)\n",
      "1.26 s ± 80.4 ms per loop (mean ± std. dev. of 7 runs, 1 loop each)\n",
      "1.07 s ± 49.6 ms per loop (mean ± std. dev. of 7 runs, 1 loop each)\n",
      "1.11 s ± 78.1 ms per loop (mean ± std. dev. of 7 runs, 1 loop each)\n"
     ]
    }
   ],
   "source": [
    "time_results = []\n",
    "batch_sizes = [1,2,4,8,16,32,64,128]\n",
    "for batch_size in batch_sizes:\n",
    "    result = %timeit -o run_with_batch_size(batch_size)\n",
    "    time_results.append(result)   "
   ]
  },
  {
   "cell_type": "code",
   "execution_count": 17,
   "id": "f3b5cf1b-4914-4294-8077-844c16e8aabc",
   "metadata": {},
   "outputs": [
    {
     "data": {
      "text/plain": [
       "[<matplotlib.lines.Line2D at 0x7f62c85f48e0>]"
      ]
     },
     "execution_count": 17,
     "metadata": {},
     "output_type": "execute_result"
    },
    {
     "data": {
      "image/png": "[encoded data removed]",
      "text/plain": [
       "<Figure size 640x480 with 1 Axes>"
      ]
     },
     "metadata": {},
     "output_type": "display_data"
    }
   ],
   "source": [
    "%matplotlib inline\n",
    "plt.xlabel('batch sizes')\n",
    "plt.ylabel('time (seconds)')\n",
    "avg_results = [result.average for result in time_results]\n",
    "plt.plot(batch_sizes, avg_results)\n",
    "# TODO plot for 2A"
   ]
  },
  {
   "cell_type": "code",
   "execution_count": 18,
   "id": "a3b23ce8-19a3-4505-9904-f042ec73745e",
   "metadata": {
    "tags": []
   },
   "outputs": [
    {
     "name": "stdout",
     "output_type": "stream",
     "text": [
      "[0.00215341]\n"
     ]
    }
   ],
   "source": [
    "# code for 2B\n",
    "# Total time = execution time of tasks in parallel + C_b * number of batches created\n",
    "# Slope of regression = C_b\n",
    "# Number of batches = number of combos / batch_size\n",
    "from sklearn.linear_model import LinearRegression\n",
    "num_batches = [np.ceil(len(combos)/batch_size) for batch_size in batch_sizes]\n",
    "model = LinearRegression()\n",
    "model.fit(np.array(num_batches).reshape((-1,1)), np.array(avg_results))\n",
    "print(model.coef_)\n",
    "\n"
   ]
  },
  {
   "cell_type": "markdown",
   "id": "9d662db6-2c99-45c2-a71b-a4482c454371",
   "metadata": {},
   "source": [
    "**TODO Answer for 2B**\n",
    "\n",
    "Taking the slope of the line of our linear regression, we find that $C_b$ is about 2.15 milliseconds"
   ]
  },
  {
   "cell_type": "markdown",
   "id": "57b3cb77-8d34-4eab-bc1a-09fd8266a07f",
   "metadata": {},
   "source": [
    "3. Run the job with `prefer='threads'` and `prefer='processes'`. You do not need to vary batch size for this part. Which is more efficient?  Why? Consider our discussion of parallel threads in python."
   ]
  },
  {
   "cell_type": "code",
   "execution_count": 19,
   "id": "192d3aed-d2c7-45c8-83bd-83462fdc24bb",
   "metadata": {},
   "outputs": [
    {
     "name": "stdout",
     "output_type": "stream",
     "text": [
      "11 s ± 1.24 s per loop (mean ± std. dev. of 7 runs, 1 loop each)\n"
     ]
    }
   ],
   "source": [
    "%%timeit\n",
    "r_sq_list = Parallel(n_jobs=4, batch_size=batch_size, prefer='threads')(delayed(r_sq_regression_parallel)(combo) for combo in combos)\n",
    "r_sq_arr = np.array(r_sq_list, dtype=object)\n",
    "r_sq_idx = np.argmax(r_sq_arr[:,1])"
   ]
  },
  {
   "cell_type": "code",
   "execution_count": 20,
   "id": "01837491-d44b-44b5-8810-de2c69d80f03",
   "metadata": {
    "tags": []
   },
   "outputs": [
    {
     "name": "stdout",
     "output_type": "stream",
     "text": [
      "1.2 s ± 51.9 ms per loop (mean ± std. dev. of 7 runs, 1 loop each)\n"
     ]
    }
   ],
   "source": [
    "%%timeit\n",
    "r_sq_list = Parallel(n_jobs=4, batch_size=batch_size, prefer='processes')(delayed(r_sq_regression_parallel)(combo) for combo in combos)\n",
    "r_sq_arr = np.array(r_sq_list, dtype=object)\n",
    "r_sq_idx = np.argmax(r_sq_arr[:,1])"
   ]
  },
  {
   "cell_type": "markdown",
   "id": "3b831431-437f-48e8-b24c-3952a8ab2ebf",
   "metadata": {},
   "source": [
    "**TODO Answer to 3**\n",
    "\n",
    "The processes version is more efficient. This is due to Python having a global interpreter lock. So each thread is concurrent, but not running in parallel as only one thread can acquire the lock at a time. On the other hand, multiple processes running multiple Python instances will not be limited by the global interpreter lock ."
   ]
  },
  {
   "cell_type": "code",
   "execution_count": null,
   "id": "23e2c81e-aa2d-487e-bbce-f5c48ab45b0c",
   "metadata": {},
   "outputs": [],
   "source": []
  }
 ],
 "metadata": {
  "kernelspec": {
   "display_name": "Python 3 (ipykernel)",
   "language": "python",
   "name": "python3"
  },
  "language_info": {
   "codemirror_mode": {
    "name": "ipython",
    "version": 3
   },
   "file_extension": ".py",
   "mimetype": "text/x-python",
   "name": "python",
   "nbconvert_exporter": "python",
   "pygments_lexer": "ipython3",
   "version": "3.10.9"
  }
 },
 "nbformat": 4,
 "nbformat_minor": 5
}
