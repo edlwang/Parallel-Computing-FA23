{
 "cells": [
  {
   "cell_type": "markdown",
   "metadata": {
    "id": "UHPtaA6QbycI"
   },
   "source": [
    "## dask <code>compute()</code> Deferred Computing\n",
    "\n",
    "We're going to build a somewhat interesting workload and then run it a couple of different ways.  Let's start by loading the NYC flight data.\n",
    "\n",
    "This exercise will reinforce dask dataframe programming concepts by building a set of analyses. We will then use these type of `groupby` and aggregate queries to look at execution properties.\n",
    "\n",
    "Code that you need to write is indicated with #TODO. I've left the output of the reference implementation in the cells so that you can refer to it for correctness.  You can refer to the read-only shared version for this output."
   ]
  },
  {
   "cell_type": "markdown",
   "metadata": {
    "id": "2ynzaF1Duo7K"
   },
   "source": [
    "Read in the NYC Flights data from Google cloud storage and then print the dataframe metadata."
   ]
  },
  {
   "cell_type": "code",
   "execution_count": 1,
   "metadata": {
    "colab": {
     "base_uri": "https://localhost:8080/",
     "height": 292
    },
    "id": "zRuqHz41bycJ",
    "outputId": "6fada593-02fd-4430-c636-1c94f5fdbe0d",
    "tags": []
   },
   "outputs": [
    {
     "data": {
      "text/html": [
       "<div><strong>Dask DataFrame Structure:</strong></div>\n",
       "<div>\n",
       "<style scoped>\n",
       "    .dataframe tbody tr th:only-of-type {\n",
       "        vertical-align: middle;\n",
       "    }\n",
       "\n",
       "    .dataframe tbody tr th {\n",
       "        vertical-align: top;\n",
       "    }\n",
       "\n",
       "    .dataframe thead th {\n",
       "        text-align: right;\n",
       "    }\n",
       "</style>\n",
       "<table border=\"1\" class=\"dataframe\">\n",
       "  <thead>\n",
       "    <tr style=\"text-align: right;\">\n",
       "      <th></th>\n",
       "      <th>Date</th>\n",
       "      <th>DayOfWeek</th>\n",
       "      <th>DepTime</th>\n",
       "      <th>CRSDepTime</th>\n",
       "      <th>ArrTime</th>\n",
       "      <th>CRSArrTime</th>\n",
       "      <th>UniqueCarrier</th>\n",
       "      <th>FlightNum</th>\n",
       "      <th>TailNum</th>\n",
       "      <th>ActualElapsedTime</th>\n",
       "      <th>CRSElapsedTime</th>\n",
       "      <th>AirTime</th>\n",
       "      <th>ArrDelay</th>\n",
       "      <th>DepDelay</th>\n",
       "      <th>Origin</th>\n",
       "      <th>Dest</th>\n",
       "      <th>Distance</th>\n",
       "      <th>TaxiIn</th>\n",
       "      <th>TaxiOut</th>\n",
       "      <th>Cancelled</th>\n",
       "      <th>Diverted</th>\n",
       "    </tr>\n",
       "    <tr>\n",
       "      <th>npartitions=10</th>\n",
       "      <th></th>\n",
       "      <th></th>\n",
       "      <th></th>\n",
       "      <th></th>\n",
       "      <th></th>\n",
       "      <th></th>\n",
       "      <th></th>\n",
       "      <th></th>\n",
       "      <th></th>\n",
       "      <th></th>\n",
       "      <th></th>\n",
       "      <th></th>\n",
       "      <th></th>\n",
       "      <th></th>\n",
       "      <th></th>\n",
       "      <th></th>\n",
       "      <th></th>\n",
       "      <th></th>\n",
       "      <th></th>\n",
       "      <th></th>\n",
       "      <th></th>\n",
       "    </tr>\n",
       "  </thead>\n",
       "  <tbody>\n",
       "    <tr>\n",
       "      <th></th>\n",
       "      <td>datetime64[ns]</td>\n",
       "      <td>int64</td>\n",
       "      <td>float64</td>\n",
       "      <td>int64</td>\n",
       "      <td>float64</td>\n",
       "      <td>int64</td>\n",
       "      <td>object</td>\n",
       "      <td>int64</td>\n",
       "      <td>object</td>\n",
       "      <td>float64</td>\n",
       "      <td>float64</td>\n",
       "      <td>float64</td>\n",
       "      <td>float64</td>\n",
       "      <td>float64</td>\n",
       "      <td>object</td>\n",
       "      <td>object</td>\n",
       "      <td>float64</td>\n",
       "      <td>float64</td>\n",
       "      <td>float64</td>\n",
       "      <td>bool</td>\n",
       "      <td>int64</td>\n",
       "    </tr>\n",
       "    <tr>\n",
       "      <th></th>\n",
       "      <td>...</td>\n",
       "      <td>...</td>\n",
       "      <td>...</td>\n",
       "      <td>...</td>\n",
       "      <td>...</td>\n",
       "      <td>...</td>\n",
       "      <td>...</td>\n",
       "      <td>...</td>\n",
       "      <td>...</td>\n",
       "      <td>...</td>\n",
       "      <td>...</td>\n",
       "      <td>...</td>\n",
       "      <td>...</td>\n",
       "      <td>...</td>\n",
       "      <td>...</td>\n",
       "      <td>...</td>\n",
       "      <td>...</td>\n",
       "      <td>...</td>\n",
       "      <td>...</td>\n",
       "      <td>...</td>\n",
       "      <td>...</td>\n",
       "    </tr>\n",
       "    <tr>\n",
       "      <th>...</th>\n",
       "      <td>...</td>\n",
       "      <td>...</td>\n",
       "      <td>...</td>\n",
       "      <td>...</td>\n",
       "      <td>...</td>\n",
       "      <td>...</td>\n",
       "      <td>...</td>\n",
       "      <td>...</td>\n",
       "      <td>...</td>\n",
       "      <td>...</td>\n",
       "      <td>...</td>\n",
       "      <td>...</td>\n",
       "      <td>...</td>\n",
       "      <td>...</td>\n",
       "      <td>...</td>\n",
       "      <td>...</td>\n",
       "      <td>...</td>\n",
       "      <td>...</td>\n",
       "      <td>...</td>\n",
       "      <td>...</td>\n",
       "      <td>...</td>\n",
       "    </tr>\n",
       "    <tr>\n",
       "      <th></th>\n",
       "      <td>...</td>\n",
       "      <td>...</td>\n",
       "      <td>...</td>\n",
       "      <td>...</td>\n",
       "      <td>...</td>\n",
       "      <td>...</td>\n",
       "      <td>...</td>\n",
       "      <td>...</td>\n",
       "      <td>...</td>\n",
       "      <td>...</td>\n",
       "      <td>...</td>\n",
       "      <td>...</td>\n",
       "      <td>...</td>\n",
       "      <td>...</td>\n",
       "      <td>...</td>\n",
       "      <td>...</td>\n",
       "      <td>...</td>\n",
       "      <td>...</td>\n",
       "      <td>...</td>\n",
       "      <td>...</td>\n",
       "      <td>...</td>\n",
       "    </tr>\n",
       "    <tr>\n",
       "      <th></th>\n",
       "      <td>...</td>\n",
       "      <td>...</td>\n",
       "      <td>...</td>\n",
       "      <td>...</td>\n",
       "      <td>...</td>\n",
       "      <td>...</td>\n",
       "      <td>...</td>\n",
       "      <td>...</td>\n",
       "      <td>...</td>\n",
       "      <td>...</td>\n",
       "      <td>...</td>\n",
       "      <td>...</td>\n",
       "      <td>...</td>\n",
       "      <td>...</td>\n",
       "      <td>...</td>\n",
       "      <td>...</td>\n",
       "      <td>...</td>\n",
       "      <td>...</td>\n",
       "      <td>...</td>\n",
       "      <td>...</td>\n",
       "      <td>...</td>\n",
       "    </tr>\n",
       "  </tbody>\n",
       "</table>\n",
       "</div>\n",
       "<div>Dask Name: read-csv, 10 tasks</div>"
      ],
      "text/plain": [
       "Dask DataFrame Structure:\n",
       "                          Date DayOfWeek  DepTime CRSDepTime  ArrTime CRSArrTime UniqueCarrier FlightNum TailNum ActualElapsedTime CRSElapsedTime  AirTime ArrDelay DepDelay  Origin    Dest Distance   TaxiIn  TaxiOut Cancelled Diverted\n",
       "npartitions=10                                                                                                                                                                                                                            \n",
       "                datetime64[ns]     int64  float64      int64  float64      int64        object     int64  object           float64        float64  float64  float64  float64  object  object  float64  float64  float64      bool    int64\n",
       "                           ...       ...      ...        ...      ...        ...           ...       ...     ...               ...            ...      ...      ...      ...     ...     ...      ...      ...      ...       ...      ...\n",
       "...                        ...       ...      ...        ...      ...        ...           ...       ...     ...               ...            ...      ...      ...      ...     ...     ...      ...      ...      ...       ...      ...\n",
       "                           ...       ...      ...        ...      ...        ...           ...       ...     ...               ...            ...      ...      ...      ...     ...     ...      ...      ...      ...       ...      ...\n",
       "                           ...       ...      ...        ...      ...        ...           ...       ...     ...               ...            ...      ...      ...      ...     ...     ...      ...      ...      ...       ...      ...\n",
       "Dask Name: read-csv, 10 tasks"
      ]
     },
     "execution_count": 1,
     "metadata": {},
     "output_type": "execute_result"
    }
   ],
   "source": [
    "import dask.dataframe as dd\n",
    "\n",
    "df = dd.read_csv(\"../data/nycflight/*.csv\",\n",
    "                 parse_dates={'Date': [0, 1, 2]},\n",
    "                 dtype={'TailNum': str,\n",
    "                        'CRSElapsedTime': float,\n",
    "                        'Cancelled': bool})\n",
    "df"
   ]
  },
  {
   "cell_type": "markdown",
   "metadata": {
    "id": "PMA9jq_hbycN"
   },
   "source": [
    "Let's build a set of queries around the performance of particular planes, identified by tail number.  The pattern will be to <code>groupby('TailNum') and then compute statistics.\n",
    "\n",
    "__Query__: What is the average departure delay 'DepDelay' for each plane?"
   ]
  },
  {
   "cell_type": "code",
   "execution_count": 2,
   "metadata": {
    "colab": {
     "base_uri": "https://localhost:8080/"
    },
    "id": "oj9dXHzWbycO",
    "outputId": "9c8a671a-2153-417b-90c3-3639e4eda911",
    "tags": []
   },
   "outputs": [
    {
     "name": "stdout",
     "output_type": "stream",
     "text": [
      "TailNum\n",
      "EI-BWD    11.213501\n",
      "EI-CAL    23.846154\n",
      "EI-CAM    26.611511\n",
      "EI-CIW    12.918182\n",
      "N050AA     9.180180\n",
      "            ...    \n",
      "N976TW    -2.294118\n",
      "N978TW     0.000000\n",
      "N979TW     5.250000\n",
      "N980TW     3.428571\n",
      "N982TW    14.000000\n",
      "Name: DepDelay, Length: 3712, dtype: float64\n"
     ]
    }
   ],
   "source": [
    "#TODO\n",
    "df_delay = df.groupby('TailNum')['DepDelay'].mean().compute()\n",
    "print(df_delay)"
   ]
  },
  {
   "cell_type": "markdown",
   "metadata": {
    "id": "VX_4SPX5bycR"
   },
   "source": [
    "Interesting, some planes were early, lets plot a histrogram of the distribution with 1000 bins."
   ]
  },
  {
   "cell_type": "code",
   "execution_count": 3,
   "metadata": {
    "colab": {
     "base_uri": "https://localhost:8080/",
     "height": 283
    },
    "id": "PImy_enebycS",
    "outputId": "bfd6b26b-d0a9-4be8-e5f3-a804d2bb33d0",
    "tags": []
   },
   "outputs": [
    {
     "data": {
      "text/plain": [
       "(array([  1.,   0.,   0.,   0.,   0.,   0.,   0.,   0.,   1.,   0.,   0.,\n",
       "          0.,   1.,   0.,   3.,   2.,   4.,   2.,   0.,   0.,   9.,   4.,\n",
       "          2.,   3.,   9.,   8.,   8.,   7.,   7.,   7.,   8.,   7.,  16.,\n",
       "          8.,  11.,   9.,  20.,  25.,  17.,  18.,  32.,  34.,  46.,  34.,\n",
       "         45.,  62.,  55.,  65.,  60.,  67.,  69.,  69.,  69.,  70.,  52.,\n",
       "         77.,  92.,  82.,  90.,  93., 101., 100.,  95.,  92., 108.,  81.,\n",
       "         97.,  96.,  85.,  95.,  92.,  82.,  72.,  47.,  72.,  73.,  54.,\n",
       "         48.,  41.,  39.,  42.,  31.,  29.,  33.,  14.,  28.,  19.,  18.,\n",
       "         22.,  29.,  16.,  17.,  23.,  15.,  14.,   9.,   9.,   6.,   6.,\n",
       "          5.,   8.,   7.,   5.,   3.,   5.,  11.,   3.,   6.,   4.,   7.,\n",
       "          2.,   5.,   6.,   5.,   6.,   5.,   7.,   2.,   4.,   2.,   8.,\n",
       "          2.,   4.,   6.,   4.,   5.,   3.,   3.,   3.,   2.,   5.,   5.,\n",
       "          6.,   7.,   1.,   6.,   3.,   3.,   1.,   1.,   2.,   1.,   2.,\n",
       "          2.,   1.,   1.,   0.,   2.,   3.,   2.,   0.,   1.,   2.,   1.,\n",
       "          3.,   0.,   3.,   1.,   0.,   1.,   2.,   1.,   0.,   0.,   0.,\n",
       "          6.,   1.,   0.,   0.,   1.,   3.,   0.,   2.,   1.,   0.,   0.,\n",
       "          0.,   2.,   0.,   1.,   1.,   1.,   3.,   1.,   0.,   0.,   1.,\n",
       "          1.,   1.,   0.,   1.,   3.,   1.,   1.,   2.,   1.,   0.,   0.,\n",
       "          0.,   0.,   1.,   0.,   0.,   1.,   0.,   1.,   1.,   0.,   0.,\n",
       "          1.,   0.,   0.,   0.,   0.,   0.,   0.,   0.,   0.,   0.,   0.,\n",
       "          0.,   0.,   0.,   2.,   0.,   0.,   1.,   0.,   0.,   0.,   0.,\n",
       "          0.,   0.,   0.,   0.,   0.,   0.,   0.,   0.,   0.,   0.,   0.,\n",
       "          1.,   0.,   1.,   0.,   0.,   0.,   0.,   0.,   0.,   0.,   0.,\n",
       "          0.,   0.,   1.,   0.,   0.,   0.,   0.,   0.,   0.,   0.,   1.,\n",
       "          0.,   0.,   1.,   0.,   0.,   0.,   0.,   0.,   0.,   0.,   0.,\n",
       "          0.,   0.,   0.,   1.,   0.,   0.,   0.,   0.,   0.,   0.,   0.,\n",
       "          0.,   0.,   1.,   0.,   0.,   0.,   0.,   0.,   0.,   0.,   0.,\n",
       "          0.,   0.,   0.,   0.,   0.,   0.,   0.,   0.,   0.,   0.,   0.,\n",
       "          1.,   0.,   0.,   0.,   0.,   1.,   1.,   0.,   0.,   0.,   0.,\n",
       "          0.,   0.,   0.,   0.,   0.,   0.,   0.,   0.,   0.,   0.,   0.,\n",
       "          0.,   0.,   0.,   0.,   0.,   0.,   0.,   0.,   0.,   0.,   0.,\n",
       "          0.,   0.,   1.,   0.,   0.,   0.,   0.,   0.,   0.,   0.,   0.,\n",
       "          0.,   0.,   0.,   0.,   0.,   0.,   0.,   0.,   1.,   0.,   0.,\n",
       "          0.,   0.,   0.,   0.,   0.,   0.,   0.,   0.,   0.,   0.,   0.,\n",
       "          0.,   0.,   0.,   0.,   0.,   0.,   0.,   0.,   1.,   0.,   0.,\n",
       "          1.,   0.,   0.,   0.,   0.,   0.,   0.,   0.,   0.,   0.,   0.,\n",
       "          0.,   0.,   0.,   0.,   0.,   0.,   0.,   0.,   0.,   0.,   0.,\n",
       "          0.,   1.,   0.,   0.,   0.,   0.,   0.,   0.,   0.,   0.,   0.,\n",
       "          0.,   0.,   0.,   0.,   0.,   0.,   0.,   0.,   0.,   0.,   0.,\n",
       "          0.,   0.,   0.,   0.,   0.,   0.,   0.,   0.,   0.,   0.,   0.,\n",
       "          0.,   0.,   1.,   0.,   0.,   0.,   0.,   0.,   0.,   0.,   0.,\n",
       "          0.,   0.,   0.,   0.,   0.,   0.,   0.,   0.,   0.,   0.,   0.,\n",
       "          0.,   0.,   0.,   0.,   0.,   0.,   0.,   0.,   0.,   0.,   0.,\n",
       "          1.,   0.,   0.,   0.,   0.,   0.,   0.,   0.,   0.,   0.,   0.,\n",
       "          0.,   0.,   0.,   0.,   0.,   0.,   0.,   0.,   0.,   0.,   0.,\n",
       "          0.,   0.,   0.,   0.,   0.,   0.,   0.,   0.,   0.,   0.,   0.,\n",
       "          0.,   0.,   0.,   0.,   0.,   0.,   0.,   0.,   0.,   0.,   0.,\n",
       "          0.,   0.,   0.,   0.,   0.,   0.,   0.,   0.,   0.,   1.,   0.,\n",
       "          0.,   0.,   1.,   0.,   0.,   0.,   0.,   0.,   0.,   0.,   0.,\n",
       "          0.,   0.,   0.,   0.,   0.,   0.,   0.,   0.,   0.,   0.,   0.,\n",
       "          0.,   0.,   0.,   0.,   0.,   0.,   0.,   0.,   0.,   0.,   0.,\n",
       "          0.,   0.,   0.,   0.,   0.,   0.,   0.,   0.,   0.,   0.,   0.,\n",
       "          0.,   0.,   0.,   0.,   0.,   0.,   0.,   0.,   0.,   0.,   0.,\n",
       "          0.,   0.,   0.,   0.,   0.,   0.,   0.,   0.,   0.,   0.,   0.,\n",
       "          0.,   0.,   0.,   0.,   0.,   0.,   0.,   0.,   0.,   0.,   0.,\n",
       "          0.,   0.,   0.,   0.,   0.,   0.,   0.,   0.,   0.,   0.,   0.,\n",
       "          0.,   0.,   0.,   0.,   0.,   0.,   0.,   0.,   0.,   0.,   0.,\n",
       "          0.,   0.,   0.,   0.,   0.,   0.,   0.,   0.,   0.,   0.,   0.,\n",
       "          0.,   0.,   0.,   0.,   0.,   0.,   0.,   0.,   0.,   0.,   0.,\n",
       "          0.,   0.,   0.,   0.,   0.,   0.,   0.,   0.,   0.,   0.,   0.,\n",
       "          0.,   0.,   0.,   0.,   0.,   0.,   0.,   0.,   0.,   0.,   0.,\n",
       "          0.,   0.,   0.,   0.,   0.,   0.,   0.,   0.,   0.,   0.,   0.,\n",
       "          0.,   0.,   0.,   0.,   0.,   0.,   0.,   0.,   0.,   0.,   0.,\n",
       "          0.,   0.,   0.,   0.,   0.,   0.,   0.,   0.,   0.,   0.,   0.,\n",
       "          0.,   0.,   0.,   0.,   0.,   0.,   0.,   0.,   0.,   0.,   0.,\n",
       "          0.,   0.,   0.,   0.,   0.,   0.,   0.,   0.,   0.,   0.,   0.,\n",
       "          0.,   0.,   0.,   0.,   0.,   0.,   0.,   0.,   0.,   0.,   0.,\n",
       "          0.,   0.,   0.,   0.,   0.,   0.,   0.,   1.,   0.,   0.,   0.,\n",
       "          0.,   0.,   0.,   0.,   0.,   0.,   0.,   0.,   0.,   0.,   0.,\n",
       "          0.,   0.,   0.,   0.,   0.,   0.,   0.,   0.,   0.,   0.,   0.,\n",
       "          0.,   0.,   0.,   0.,   0.,   0.,   0.,   0.,   0.,   0.,   0.,\n",
       "          0.,   0.,   0.,   0.,   0.,   0.,   0.,   0.,   0.,   0.,   0.,\n",
       "          0.,   0.,   0.,   0.,   0.,   0.,   0.,   0.,   0.,   0.,   0.,\n",
       "          0.,   0.,   0.,   0.,   0.,   0.,   0.,   0.,   0.,   0.,   0.,\n",
       "          0.,   0.,   0.,   0.,   0.,   0.,   0.,   0.,   0.,   0.,   0.,\n",
       "          0.,   0.,   0.,   0.,   0.,   0.,   0.,   0.,   0.,   0.,   0.,\n",
       "          0.,   0.,   0.,   0.,   0.,   0.,   0.,   0.,   0.,   0.,   0.,\n",
       "          0.,   0.,   0.,   0.,   0.,   0.,   0.,   0.,   0.,   0.,   0.,\n",
       "          0.,   0.,   0.,   0.,   0.,   0.,   0.,   0.,   0.,   0.,   0.,\n",
       "          0.,   0.,   0.,   0.,   0.,   0.,   0.,   0.,   0.,   0.,   0.,\n",
       "          0.,   0.,   0.,   0.,   0.,   0.,   0.,   0.,   0.,   0.,   0.,\n",
       "          0.,   0.,   0.,   0.,   0.,   0.,   0.,   0.,   0.,   0.,   0.,\n",
       "          0.,   0.,   0.,   0.,   0.,   0.,   0.,   0.,   0.,   0.,   0.,\n",
       "          0.,   0.,   0.,   0.,   0.,   0.,   0.,   0.,   0.,   0.,   0.,\n",
       "          0.,   0.,   0.,   0.,   0.,   0.,   0.,   0.,   0.,   0.,   0.,\n",
       "          0.,   0.,   0.,   0.,   0.,   0.,   0.,   0.,   0.,   0.,   0.,\n",
       "          0.,   0.,   0.,   0.,   0.,   0.,   0.,   0.,   0.,   0.,   0.,\n",
       "          0.,   0.,   0.,   0.,   0.,   0.,   0.,   0.,   0.,   0.,   0.,\n",
       "          0.,   0.,   0.,   0.,   0.,   0.,   0.,   0.,   0.,   0.,   0.,\n",
       "          0.,   0.,   0.,   0.,   0.,   0.,   0.,   0.,   0.,   0.,   0.,\n",
       "          0.,   0.,   0.,   0.,   0.,   1.,   0.,   0.,   0.,   1.]),\n",
       " array([ -6.   ,  -5.753,  -5.506, ..., 240.506, 240.753, 241.   ]),\n",
       " <BarContainer object of 1000 artists>)"
      ]
     },
     "execution_count": 3,
     "metadata": {},
     "output_type": "execute_result"
    },
    {
     "data": {
      "image/png": "[encoded data removed]",
      "text/plain": [
       "<Figure size 640x480 with 1 Axes>"
      ]
     },
     "metadata": {},
     "output_type": "display_data"
    }
   ],
   "source": [
    "%matplotlib inline\n",
    "#TODO\n",
    "import matplotlib.pyplot as plt\n",
    "plt.hist(df_delay, bins=1000)"
   ]
  },
  {
   "cell_type": "markdown",
   "metadata": {
    "id": "5XRyPc7gbycW"
   },
   "source": [
    "OK, we have very few chronically bad planes.  Let's find those that are 30 (or more) minutes late on average."
   ]
  },
  {
   "cell_type": "code",
   "execution_count": 4,
   "metadata": {
    "colab": {
     "base_uri": "https://localhost:8080/"
    },
    "id": "X2AGAd6XbycX",
    "outputId": "11cd3602-85df-4902-fe31-0020079c018e",
    "tags": []
   },
   "outputs": [
    {
     "name": "stdout",
     "output_type": "stream",
     "text": [
      "['N101UW' 'N102UW' 'N104UW' 'N106UW' 'N133JC' 'N133TW' 'N134TW' 'N14249'\n",
      " 'N144JC' 'N147US' 'N151AW' 'N151UA' 'N152UA' 'N153US' 'N154AA' 'N154AW'\n",
      " 'N155US' 'N156AW' 'N158AW' 'N161US' 'N168AW' 'N169AW' 'N17010' 'N17011'\n",
      " 'N1738D' 'N1739D' 'N174AW' 'N174GM' 'N174UA' 'N175UA' 'N17789' 'N1854U'\n",
      " 'N195UA' 'N199UA' 'N224DA' 'N224NW' 'N225NW' 'N235NW' 'N303TW' 'N304AW'\n",
      " 'N305AW' 'N305TW' 'N307TW' 'N322AW' 'N328AW' 'N33021' 'N3310L' 'N331AW'\n",
      " 'N375DA' 'N376DL' 'N379DL' 'N382DA' 'N53110' 'N53116' 'N534TW' 'N6700'\n",
      " 'N701UW' 'N706UW' 'N708UW' 'N713DA' 'N713UW' 'N716DA' 'N719DA' 'N724DA'\n",
      " 'N727UW' 'N733DS' 'N735D' 'N737D' 'N760DH' 'N78019' 'N787DL' 'N789DL'\n",
      " 'N802DE' 'N805DE' 'N817AA' 'N8911E' 'N93104' 'N93107' 'N93108' 'N93109'\n",
      " 'N93119' 'N96S' 'N971Z' 'N976UA' 'N993UA' 'NEIDLA' 'UNKNOW']\n"
     ]
    }
   ],
   "source": [
    "import numpy as np\n",
    "\n",
    "lateplanes = df_delay[df_delay > 30].keys()\n",
    "print(np.sort(lateplanes))"
   ]
  },
  {
   "cell_type": "markdown",
   "metadata": {
    "id": "dLm2yoDEbycZ"
   },
   "source": [
    "OK, this is a hard query.\n",
    "Build a dataframe that is a subset all the data associated with the late planes.  There are many ways to solve this problem. I would recommend looking at the `isin()` function in dask."
   ]
  },
  {
   "cell_type": "code",
   "execution_count": 5,
   "metadata": {
    "colab": {
     "base_uri": "https://localhost:8080/",
     "height": 661
    },
    "id": "bXdqGUczbyca",
    "outputId": "1743d4bc-d5af-4966-e1ac-d5a40d8f4e20",
    "tags": []
   },
   "outputs": [
    {
     "data": {
      "text/html": [
       "<div>\n",
       "<style scoped>\n",
       "    .dataframe tbody tr th:only-of-type {\n",
       "        vertical-align: middle;\n",
       "    }\n",
       "\n",
       "    .dataframe tbody tr th {\n",
       "        vertical-align: top;\n",
       "    }\n",
       "\n",
       "    .dataframe thead th {\n",
       "        text-align: right;\n",
       "    }\n",
       "</style>\n",
       "<table border=\"1\" class=\"dataframe\">\n",
       "  <thead>\n",
       "    <tr style=\"text-align: right;\">\n",
       "      <th></th>\n",
       "      <th>Date</th>\n",
       "      <th>DayOfWeek</th>\n",
       "      <th>DepTime</th>\n",
       "      <th>CRSDepTime</th>\n",
       "      <th>ArrTime</th>\n",
       "      <th>CRSArrTime</th>\n",
       "      <th>UniqueCarrier</th>\n",
       "      <th>FlightNum</th>\n",
       "      <th>TailNum</th>\n",
       "      <th>ActualElapsedTime</th>\n",
       "      <th>...</th>\n",
       "      <th>AirTime</th>\n",
       "      <th>ArrDelay</th>\n",
       "      <th>DepDelay</th>\n",
       "      <th>Origin</th>\n",
       "      <th>Dest</th>\n",
       "      <th>Distance</th>\n",
       "      <th>TaxiIn</th>\n",
       "      <th>TaxiOut</th>\n",
       "      <th>Cancelled</th>\n",
       "      <th>Diverted</th>\n",
       "    </tr>\n",
       "  </thead>\n",
       "  <tbody>\n",
       "    <tr>\n",
       "      <th>8</th>\n",
       "      <td>1995-01-09</td>\n",
       "      <td>1</td>\n",
       "      <td>NaN</td>\n",
       "      <td>1950</td>\n",
       "      <td>NaN</td>\n",
       "      <td>2337</td>\n",
       "      <td>CO</td>\n",
       "      <td>401</td>\n",
       "      <td>UNKNOW</td>\n",
       "      <td>NaN</td>\n",
       "      <td>...</td>\n",
       "      <td>42.0</td>\n",
       "      <td>NaN</td>\n",
       "      <td>NaN</td>\n",
       "      <td>EWR</td>\n",
       "      <td>PHX</td>\n",
       "      <td>2133.0</td>\n",
       "      <td>8.0</td>\n",
       "      <td>33.0</td>\n",
       "      <td>True</td>\n",
       "      <td>0</td>\n",
       "    </tr>\n",
       "    <tr>\n",
       "      <th>39</th>\n",
       "      <td>1995-01-18</td>\n",
       "      <td>3</td>\n",
       "      <td>NaN</td>\n",
       "      <td>1640</td>\n",
       "      <td>NaN</td>\n",
       "      <td>2002</td>\n",
       "      <td>CO</td>\n",
       "      <td>446</td>\n",
       "      <td>UNKNOW</td>\n",
       "      <td>NaN</td>\n",
       "      <td>...</td>\n",
       "      <td>56.0</td>\n",
       "      <td>NaN</td>\n",
       "      <td>NaN</td>\n",
       "      <td>EWR</td>\n",
       "      <td>PHX</td>\n",
       "      <td>2133.0</td>\n",
       "      <td>6.0</td>\n",
       "      <td>20.0</td>\n",
       "      <td>True</td>\n",
       "      <td>0</td>\n",
       "    </tr>\n",
       "    <tr>\n",
       "      <th>248</th>\n",
       "      <td>1995-01-11</td>\n",
       "      <td>3</td>\n",
       "      <td>NaN</td>\n",
       "      <td>1815</td>\n",
       "      <td>NaN</td>\n",
       "      <td>2202</td>\n",
       "      <td>TW</td>\n",
       "      <td>731</td>\n",
       "      <td>UNKNOW</td>\n",
       "      <td>NaN</td>\n",
       "      <td>...</td>\n",
       "      <td>124.0</td>\n",
       "      <td>NaN</td>\n",
       "      <td>NaN</td>\n",
       "      <td>JFK</td>\n",
       "      <td>PHX</td>\n",
       "      <td>2153.0</td>\n",
       "      <td>10.0</td>\n",
       "      <td>34.0</td>\n",
       "      <td>True</td>\n",
       "      <td>0</td>\n",
       "    </tr>\n",
       "    <tr>\n",
       "      <th>276</th>\n",
       "      <td>1995-01-09</td>\n",
       "      <td>1</td>\n",
       "      <td>NaN</td>\n",
       "      <td>1900</td>\n",
       "      <td>NaN</td>\n",
       "      <td>2042</td>\n",
       "      <td>CO</td>\n",
       "      <td>633</td>\n",
       "      <td>UNKNOW</td>\n",
       "      <td>NaN</td>\n",
       "      <td>...</td>\n",
       "      <td>134.0</td>\n",
       "      <td>NaN</td>\n",
       "      <td>NaN</td>\n",
       "      <td>EWR</td>\n",
       "      <td>PIT</td>\n",
       "      <td>319.0</td>\n",
       "      <td>5.0</td>\n",
       "      <td>18.0</td>\n",
       "      <td>True</td>\n",
       "      <td>0</td>\n",
       "    </tr>\n",
       "    <tr>\n",
       "      <th>285</th>\n",
       "      <td>1995-01-09</td>\n",
       "      <td>1</td>\n",
       "      <td>NaN</td>\n",
       "      <td>1500</td>\n",
       "      <td>NaN</td>\n",
       "      <td>1634</td>\n",
       "      <td>CO</td>\n",
       "      <td>663</td>\n",
       "      <td>UNKNOW</td>\n",
       "      <td>NaN</td>\n",
       "      <td>...</td>\n",
       "      <td>154.0</td>\n",
       "      <td>NaN</td>\n",
       "      <td>NaN</td>\n",
       "      <td>EWR</td>\n",
       "      <td>PIT</td>\n",
       "      <td>319.0</td>\n",
       "      <td>4.0</td>\n",
       "      <td>11.0</td>\n",
       "      <td>True</td>\n",
       "      <td>0</td>\n",
       "    </tr>\n",
       "    <tr>\n",
       "      <th>...</th>\n",
       "      <td>...</td>\n",
       "      <td>...</td>\n",
       "      <td>...</td>\n",
       "      <td>...</td>\n",
       "      <td>...</td>\n",
       "      <td>...</td>\n",
       "      <td>...</td>\n",
       "      <td>...</td>\n",
       "      <td>...</td>\n",
       "      <td>...</td>\n",
       "      <td>...</td>\n",
       "      <td>...</td>\n",
       "      <td>...</td>\n",
       "      <td>...</td>\n",
       "      <td>...</td>\n",
       "      <td>...</td>\n",
       "      <td>...</td>\n",
       "      <td>...</td>\n",
       "      <td>...</td>\n",
       "      <td>...</td>\n",
       "      <td>...</td>\n",
       "    </tr>\n",
       "    <tr>\n",
       "      <th>268926</th>\n",
       "      <td>1999-12-20</td>\n",
       "      <td>1</td>\n",
       "      <td>NaN</td>\n",
       "      <td>1846</td>\n",
       "      <td>NaN</td>\n",
       "      <td>2103</td>\n",
       "      <td>UA</td>\n",
       "      <td>1609</td>\n",
       "      <td>UNKNOW</td>\n",
       "      <td>NaN</td>\n",
       "      <td>...</td>\n",
       "      <td>NaN</td>\n",
       "      <td>NaN</td>\n",
       "      <td>NaN</td>\n",
       "      <td>EWR</td>\n",
       "      <td>DEN</td>\n",
       "      <td>1605.0</td>\n",
       "      <td>0.0</td>\n",
       "      <td>0.0</td>\n",
       "      <td>True</td>\n",
       "      <td>0</td>\n",
       "    </tr>\n",
       "    <tr>\n",
       "      <th>269031</th>\n",
       "      <td>1999-12-16</td>\n",
       "      <td>4</td>\n",
       "      <td>NaN</td>\n",
       "      <td>615</td>\n",
       "      <td>NaN</td>\n",
       "      <td>829</td>\n",
       "      <td>UA</td>\n",
       "      <td>401</td>\n",
       "      <td>UNKNOW</td>\n",
       "      <td>NaN</td>\n",
       "      <td>...</td>\n",
       "      <td>NaN</td>\n",
       "      <td>NaN</td>\n",
       "      <td>NaN</td>\n",
       "      <td>LGA</td>\n",
       "      <td>DEN</td>\n",
       "      <td>1619.0</td>\n",
       "      <td>0.0</td>\n",
       "      <td>0.0</td>\n",
       "      <td>True</td>\n",
       "      <td>0</td>\n",
       "    </tr>\n",
       "    <tr>\n",
       "      <th>269093</th>\n",
       "      <td>1999-12-14</td>\n",
       "      <td>2</td>\n",
       "      <td>NaN</td>\n",
       "      <td>1650</td>\n",
       "      <td>NaN</td>\n",
       "      <td>1906</td>\n",
       "      <td>UA</td>\n",
       "      <td>785</td>\n",
       "      <td>UNKNOW</td>\n",
       "      <td>NaN</td>\n",
       "      <td>...</td>\n",
       "      <td>NaN</td>\n",
       "      <td>NaN</td>\n",
       "      <td>NaN</td>\n",
       "      <td>LGA</td>\n",
       "      <td>DEN</td>\n",
       "      <td>1619.0</td>\n",
       "      <td>0.0</td>\n",
       "      <td>0.0</td>\n",
       "      <td>True</td>\n",
       "      <td>0</td>\n",
       "    </tr>\n",
       "    <tr>\n",
       "      <th>269153</th>\n",
       "      <td>1999-12-17</td>\n",
       "      <td>5</td>\n",
       "      <td>NaN</td>\n",
       "      <td>1400</td>\n",
       "      <td>NaN</td>\n",
       "      <td>1613</td>\n",
       "      <td>UA</td>\n",
       "      <td>1691</td>\n",
       "      <td>UNKNOW</td>\n",
       "      <td>NaN</td>\n",
       "      <td>...</td>\n",
       "      <td>NaN</td>\n",
       "      <td>NaN</td>\n",
       "      <td>NaN</td>\n",
       "      <td>LGA</td>\n",
       "      <td>DEN</td>\n",
       "      <td>1619.0</td>\n",
       "      <td>0.0</td>\n",
       "      <td>0.0</td>\n",
       "      <td>True</td>\n",
       "      <td>0</td>\n",
       "    </tr>\n",
       "    <tr>\n",
       "      <th>269154</th>\n",
       "      <td>1999-12-20</td>\n",
       "      <td>1</td>\n",
       "      <td>NaN</td>\n",
       "      <td>1400</td>\n",
       "      <td>NaN</td>\n",
       "      <td>1613</td>\n",
       "      <td>UA</td>\n",
       "      <td>1691</td>\n",
       "      <td>UNKNOW</td>\n",
       "      <td>NaN</td>\n",
       "      <td>...</td>\n",
       "      <td>NaN</td>\n",
       "      <td>NaN</td>\n",
       "      <td>NaN</td>\n",
       "      <td>LGA</td>\n",
       "      <td>DEN</td>\n",
       "      <td>1619.0</td>\n",
       "      <td>0.0</td>\n",
       "      <td>0.0</td>\n",
       "      <td>True</td>\n",
       "      <td>0</td>\n",
       "    </tr>\n",
       "  </tbody>\n",
       "</table>\n",
       "<p>36339 rows × 21 columns</p>\n",
       "</div>"
      ],
      "text/plain": [
       "             Date  DayOfWeek  DepTime  CRSDepTime  ArrTime  CRSArrTime  \\\n",
       "8      1995-01-09          1      NaN        1950      NaN        2337   \n",
       "39     1995-01-18          3      NaN        1640      NaN        2002   \n",
       "248    1995-01-11          3      NaN        1815      NaN        2202   \n",
       "276    1995-01-09          1      NaN        1900      NaN        2042   \n",
       "285    1995-01-09          1      NaN        1500      NaN        1634   \n",
       "...           ...        ...      ...         ...      ...         ...   \n",
       "268926 1999-12-20          1      NaN        1846      NaN        2103   \n",
       "269031 1999-12-16          4      NaN         615      NaN         829   \n",
       "269093 1999-12-14          2      NaN        1650      NaN        1906   \n",
       "269153 1999-12-17          5      NaN        1400      NaN        1613   \n",
       "269154 1999-12-20          1      NaN        1400      NaN        1613   \n",
       "\n",
       "       UniqueCarrier  FlightNum TailNum  ActualElapsedTime  ...  AirTime  \\\n",
       "8                 CO        401  UNKNOW                NaN  ...     42.0   \n",
       "39                CO        446  UNKNOW                NaN  ...     56.0   \n",
       "248               TW        731  UNKNOW                NaN  ...    124.0   \n",
       "276               CO        633  UNKNOW                NaN  ...    134.0   \n",
       "285               CO        663  UNKNOW                NaN  ...    154.0   \n",
       "...              ...        ...     ...                ...  ...      ...   \n",
       "268926            UA       1609  UNKNOW                NaN  ...      NaN   \n",
       "269031            UA        401  UNKNOW                NaN  ...      NaN   \n",
       "269093            UA        785  UNKNOW                NaN  ...      NaN   \n",
       "269153            UA       1691  UNKNOW                NaN  ...      NaN   \n",
       "269154            UA       1691  UNKNOW                NaN  ...      NaN   \n",
       "\n",
       "        ArrDelay  DepDelay  Origin Dest Distance  TaxiIn  TaxiOut  Cancelled  \\\n",
       "8            NaN       NaN     EWR  PHX   2133.0     8.0     33.0       True   \n",
       "39           NaN       NaN     EWR  PHX   2133.0     6.0     20.0       True   \n",
       "248          NaN       NaN     JFK  PHX   2153.0    10.0     34.0       True   \n",
       "276          NaN       NaN     EWR  PIT    319.0     5.0     18.0       True   \n",
       "285          NaN       NaN     EWR  PIT    319.0     4.0     11.0       True   \n",
       "...          ...       ...     ...  ...      ...     ...      ...        ...   \n",
       "268926       NaN       NaN     EWR  DEN   1605.0     0.0      0.0       True   \n",
       "269031       NaN       NaN     LGA  DEN   1619.0     0.0      0.0       True   \n",
       "269093       NaN       NaN     LGA  DEN   1619.0     0.0      0.0       True   \n",
       "269153       NaN       NaN     LGA  DEN   1619.0     0.0      0.0       True   \n",
       "269154       NaN       NaN     LGA  DEN   1619.0     0.0      0.0       True   \n",
       "\n",
       "        Diverted  \n",
       "8              0  \n",
       "39             0  \n",
       "248            0  \n",
       "276            0  \n",
       "285            0  \n",
       "...          ...  \n",
       "268926         0  \n",
       "269031         0  \n",
       "269093         0  \n",
       "269153         0  \n",
       "269154         0  \n",
       "\n",
       "[36339 rows x 21 columns]"
      ]
     },
     "execution_count": 5,
     "metadata": {},
     "output_type": "execute_result"
    }
   ],
   "source": [
    "df_late = df[df['TailNum'].isin(lateplanes)].compute()\n",
    "df_late"
   ]
  },
  {
   "cell_type": "markdown",
   "metadata": {
    "id": "aVCJRMxhbycd"
   },
   "source": [
    "Double check that the planes indexes match."
   ]
  },
  {
   "cell_type": "code",
   "execution_count": 6,
   "metadata": {
    "colab": {
     "base_uri": "https://localhost:8080/"
    },
    "id": "2kUowBa0byce",
    "outputId": "f124bcca-52b0-4425-fded-ee09d42befba",
    "tags": []
   },
   "outputs": [
    {
     "name": "stdout",
     "output_type": "stream",
     "text": [
      "['N101UW' 'N102UW' 'N104UW' 'N106UW' 'N133JC' 'N133TW' 'N134TW' 'N14249'\n",
      " 'N144JC' 'N147US' 'N151AW' 'N151UA' 'N152UA' 'N153US' 'N154AA' 'N154AW'\n",
      " 'N155US' 'N156AW' 'N158AW' 'N161US' 'N168AW' 'N169AW' 'N17010' 'N17011'\n",
      " 'N1738D' 'N1739D' 'N174AW' 'N174GM' 'N174UA' 'N175UA' 'N17789' 'N1854U'\n",
      " 'N195UA' 'N199UA' 'N224DA' 'N224NW' 'N225NW' 'N235NW' 'N303TW' 'N304AW'\n",
      " 'N305AW' 'N305TW' 'N307TW' 'N322AW' 'N328AW' 'N33021' 'N3310L' 'N331AW'\n",
      " 'N375DA' 'N376DL' 'N379DL' 'N382DA' 'N53110' 'N53116' 'N534TW' 'N6700'\n",
      " 'N701UW' 'N706UW' 'N708UW' 'N713DA' 'N713UW' 'N716DA' 'N719DA' 'N724DA'\n",
      " 'N727UW' 'N733DS' 'N735D' 'N737D' 'N760DH' 'N78019' 'N787DL' 'N789DL'\n",
      " 'N802DE' 'N805DE' 'N817AA' 'N8911E' 'N93104' 'N93107' 'N93108' 'N93109'\n",
      " 'N93119' 'N96S' 'N971Z' 'N976UA' 'N993UA' 'NEIDLA' 'UNKNOW']\n"
     ]
    }
   ],
   "source": [
    "import numpy as np\n",
    "latelist = df_late['TailNum'].unique()\n",
    "print(np.sort(latelist))"
   ]
  },
  {
   "cell_type": "markdown",
   "metadata": {
    "id": "r5rj3Wgpbych"
   },
   "source": [
    "Now, let's get a sense of what airports these planes fly out of.  For the planes in the late_list, let's find out the total delay at these airports, the average delay by airport and the total number of flights at each airport."
   ]
  },
  {
   "cell_type": "code",
   "execution_count": 7,
   "metadata": {
    "colab": {
     "base_uri": "https://localhost:8080/"
    },
    "id": "e9cj7W-cbyci",
    "outputId": "27851447-427d-4957-bcf4-91a75cc7d6a9",
    "tags": []
   },
   "outputs": [
    {
     "data": {
      "text/plain": [
       "Origin\n",
       "EWR    16982.0\n",
       "JFK    61684.0\n",
       "LGA    27669.0\n",
       "Name: DepDelay, dtype: float64"
      ]
     },
     "execution_count": 7,
     "metadata": {},
     "output_type": "execute_result"
    }
   ],
   "source": [
    "#TODO total DepDelay for planes by Origin airport\n",
    "totalDepDelay = df_late.groupby('Origin')['DepDelay'].sum()\n",
    "totalDepDelay"
   ]
  },
  {
   "cell_type": "code",
   "execution_count": 8,
   "metadata": {
    "colab": {
     "base_uri": "https://localhost:8080/"
    },
    "id": "6mczfLxDbycl",
    "outputId": "e26cf4ac-e5bf-42e4-e0b2-875200b22666",
    "tags": []
   },
   "outputs": [
    {
     "data": {
      "text/plain": [
       "Origin\n",
       "EWR    43.101523\n",
       "JFK    41.763033\n",
       "LGA    36.027344\n",
       "Name: DepDelay, dtype: float64"
      ]
     },
     "execution_count": 8,
     "metadata": {},
     "output_type": "execute_result"
    }
   ],
   "source": [
    "#TODO average DepDelay for planes by Origin airport\n",
    "avgDepDelay = df_late.groupby('Origin')['DepDelay'].mean()\n",
    "avgDepDelay"
   ]
  },
  {
   "cell_type": "code",
   "execution_count": 9,
   "metadata": {
    "colab": {
     "base_uri": "https://localhost:8080/"
    },
    "id": "OyuCYWZVbyco",
    "outputId": "04c89f0b-f559-4528-f143-99ecc8d35d3b",
    "tags": []
   },
   "outputs": [
    {
     "data": {
      "text/plain": [
       "Origin\n",
       "EWR     270\n",
       "JFK    1208\n",
       "LGA     599\n",
       "Name: DepDelay, dtype: int64"
      ]
     },
     "execution_count": 9,
     "metadata": {},
     "output_type": "execute_result"
    }
   ],
   "source": [
    "#TODO number of late flights by Origin airport\n",
    "numLateFlights = df_late[df_late['DepDelay'] > 0].groupby('Origin')['DepDelay'].count()\n",
    "numLateFlights"
   ]
  },
  {
   "cell_type": "markdown",
   "metadata": {
    "id": "QRGT4VF9bycq"
   },
   "source": [
    "I don't know that these statistics all make sense, but that's to debug.\n",
    "\n",
    "## Deferred computing\n",
    "\n",
    "We are going to show the value of deferred computation by timing the following\n",
    "queries in two different ways:\n",
    "\n",
    "```python\n",
    "df1 = df.groupby(['Origin','TailNum']).DepDelay.mean()\n",
    "df2 = df.groupby(['TailNum','Origin']).DepDelay.mean()\n",
    "df3 = df.groupby(['Origin','TailNum']).DepDelay.max()\n",
    "df4 = df.groupby(['TailNum','Origin']).DepDelay.max()\n",
    "```\n",
    "\n",
    " 1. In one cell, add these lines and then call `compute()` on every step.\n",
    " 2. In the next cell, add the lines and only call compute at the end.\n",
    "\n",
    " First reload the data:"
   ]
  },
  {
   "cell_type": "code",
   "execution_count": 10,
   "metadata": {
    "id": "cTVf7PE0cw7F",
    "tags": []
   },
   "outputs": [],
   "source": [
    "import dask.dataframe as dd\n",
    "df = dd.read_csv(\"../data/nycflight/*.csv\",\n",
    "                 parse_dates={'Date': [0, 1, 2]},\n",
    "                 dtype={'TailNum': str,\n",
    "                        'CRSElapsedTime': float,\n",
    "                        'Cancelled': bool})"
   ]
  },
  {
   "cell_type": "markdown",
   "metadata": {
    "id": "e6oGIaoQdhyH"
   },
   "source": [
    "Run the workload calling `compute()` on every line."
   ]
  },
  {
   "cell_type": "code",
   "execution_count": 11,
   "metadata": {
    "colab": {
     "base_uri": "https://localhost:8080/"
    },
    "id": "UWioeYsrbycr",
    "outputId": "d6485d99-1685-4837-cafa-1aebcf614318",
    "tags": []
   },
   "outputs": [
    {
     "name": "stdout",
     "output_type": "stream",
     "text": [
      "CPU times: user 13.2 s, sys: 1.02 s, total: 14.2 s\n",
      "Wall time: 7.83 s\n"
     ]
    }
   ],
   "source": [
    "%%time\n",
    "df1 = df.groupby(['Origin','TailNum']).DepDelay.mean().compute()\n",
    "df2 = df.groupby(['TailNum','Origin']).DepDelay.mean().compute()\n",
    "df3 = df.groupby(['Origin','TailNum']).DepDelay.max().compute()\n",
    "df4 = df.groupby(['TailNum','Origin']).DepDelay.max().compute()\n",
    "#TODO"
   ]
  },
  {
   "cell_type": "markdown",
   "metadata": {
    "id": "a-pxDkYcc_3h"
   },
   "source": [
    "Load the data again to make sure that intermediate results are not cached and run the entire workload calling `compute()` just once."
   ]
  },
  {
   "cell_type": "code",
   "execution_count": 12,
   "metadata": {
    "id": "SzZg4-6Vc8Xr",
    "tags": []
   },
   "outputs": [],
   "source": [
    "import dask.dataframe as dd\n",
    "df = dd.read_csv(\"../data/nycflight/*.csv\",\n",
    "                 parse_dates={'Date': [0, 1, 2]},\n",
    "                 dtype={'TailNum': str,\n",
    "                        'CRSElapsedTime': float,\n",
    "                        'Cancelled': bool})"
   ]
  },
  {
   "cell_type": "code",
   "execution_count": 14,
   "metadata": {
    "colab": {
     "base_uri": "https://localhost:8080/"
    },
    "id": "hypQ3dDXbyct",
    "outputId": "ef0cdfe1-aa64-45bd-b901-0e5205a027c3",
    "tags": []
   },
   "outputs": [
    {
     "name": "stdout",
     "output_type": "stream",
     "text": [
      "CPU times: user 4.01 s, sys: 364 ms, total: 4.37 s\n",
      "Wall time: 2.53 s\n"
     ]
    },
    {
     "data": {
      "text/plain": [
       "(Origin  TailNum\n",
       " EWR     EI-BWD      9.355140\n",
       "         EI-CIW     16.283019\n",
       "         N050AA      8.309677\n",
       "         N051AA      5.949275\n",
       "         N052AA     21.845070\n",
       "                      ...    \n",
       " LGA     N993UA     55.000000\n",
       "         N994UA     -3.250000\n",
       "         N995UA     14.600000\n",
       "         N996UA      9.333333\n",
       "         N998UA      1.750000\n",
       " Name: DepDelay, Length: 8861, dtype: float64,\n",
       " TailNum  Origin\n",
       " EI-BWD   EWR        9.355140\n",
       "          JFK       11.575758\n",
       "          LGA       11.626866\n",
       " EI-CAL   JFK       23.846154\n",
       " EI-CAM   JFK       26.611511\n",
       "                      ...    \n",
       " N993UA   LGA       55.000000\n",
       " N994UA   LGA       -3.250000\n",
       " N995UA   LGA       14.600000\n",
       " N996UA   LGA        9.333333\n",
       " N998UA   LGA        1.750000\n",
       " Name: DepDelay, Length: 8861, dtype: float64,\n",
       " Origin  TailNum\n",
       " EWR     EI-BWD     177.0\n",
       "         EI-CIW     331.0\n",
       "         N050AA     248.0\n",
       "         N051AA     140.0\n",
       "         N052AA     996.0\n",
       "                    ...  \n",
       " LGA     N993UA     227.0\n",
       "         N994UA       0.0\n",
       "         N995UA      59.0\n",
       "         N996UA      17.0\n",
       "         N998UA       8.0\n",
       " Name: DepDelay, Length: 8861, dtype: float64,\n",
       " TailNum  Origin\n",
       " EI-BWD   EWR       177.0\n",
       "          JFK       414.0\n",
       "          LGA       208.0\n",
       " EI-CAL   JFK       350.0\n",
       " EI-CAM   JFK       225.0\n",
       "                    ...  \n",
       " N993UA   LGA       227.0\n",
       " N994UA   LGA         0.0\n",
       " N995UA   LGA        59.0\n",
       " N996UA   LGA        17.0\n",
       " N998UA   LGA         8.0\n",
       " Name: DepDelay, Length: 8861, dtype: float64)"
      ]
     },
     "execution_count": 14,
     "metadata": {},
     "output_type": "execute_result"
    }
   ],
   "source": [
    "%%time\n",
    "df1 = df.groupby(['Origin','TailNum']).DepDelay.mean()\n",
    "df2 = df.groupby(['TailNum','Origin']).DepDelay.mean()\n",
    "df3 = df.groupby(['Origin','TailNum']).DepDelay.max()\n",
    "df4 = df.groupby(['TailNum','Origin']).DepDelay.max()\n",
    "#TODO\n",
    "import dask\n",
    "dask.compute(df1, df2, df3, df4)"
   ]
  },
  {
   "cell_type": "markdown",
   "metadata": {
    "id": "Huv7gmPPbyc0"
   },
   "source": [
    "\n",
    "\n",
    "### Outcomes\n",
    "* Wrestled with dataframes syntax and concepts.  Good for you.\n",
    "* Witnessed the benefit of deferred computation."
   ]
  },
  {
   "cell_type": "markdown",
   "metadata": {
    "id": "WomfO0mejxw7"
   },
   "source": [
    "### Questions\n",
    "\n",
    "1. On computational reuse in execution graphs:\n",
    "    1. How much faster is it to defer the computation to the end versus calling `compute()` on every line?\n",
    "    2. What computations are shared in the workflow?  Be specific, i.e. identify the code.\n",
    "    3. Explain the speedup realized in 1(a). Why is it not faster? Why is it not slower?\n"
   ]
  },
  {
   "cell_type": "markdown",
   "metadata": {
    "tags": []
   },
   "source": [
    "A. It is approximately 3 times faster to defer the computation to the end versus calling compute on every line\n",
    "\n",
    "B. There are many computations shared in the workflow. In df1 and df3, the code `df.groupby(['Origin','TailNum']).DepDelay` is shared, while in df2 and df4, the code `df.groupby(['TailNum','Origin']).DepDelay` is shared. Furthermore, the computations in df1 and df2 are the same (calculating mean of pairs grouped by Origin and Tailnum) except the order of the pairs are swapped. Similarly, the computations in df3 and df4 follow a similar pattern.\n",
    "\n",
    "C. When compute is called every line, dask has to recompute the shared computations specified in part B for every line. When we use only one compute call, Dask can compute the shared parts of the computation once instead of once per line. The speedup can't be faster because the lines have shared computations that each line has to wait for before the final result is calculated. This prevents it from realizing a maximal 4 times speedup if the problem were embarassingly parallel. However, it is also not slower as once the shared computations are completed, the rest of the computations on the lines are completely independent and can be parallelized by dask. "
   ]
  },
  {
   "cell_type": "code",
   "execution_count": null,
   "metadata": {},
   "outputs": [],
   "source": []
  }
 ],
 "metadata": {
  "colab": {
   "provenance": []
  },
  "kernelspec": {
   "display_name": "Python 3 (ipykernel)",
   "language": "python",
   "name": "python3"
  },
  "language_info": {
   "codemirror_mode": {
    "name": "ipython",
    "version": 3
   },
   "file_extension": ".py",
   "mimetype": "text/x-python",
   "name": "python",
   "nbconvert_exporter": "python",
   "pygments_lexer": "ipython3",
   "version": "3.10.9"
  }
 },
 "nbformat": 4,
 "nbformat_minor": 4
}
